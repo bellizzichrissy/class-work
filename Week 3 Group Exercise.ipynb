{
 "cells": [
  {
   "cell_type": "code",
   "execution_count": 11,
   "metadata": {},
   "outputs": [
    {
     "name": "stdout",
     "output_type": "stream",
     "text": [
      "a + b = 5\n",
      "a - b = -5\n",
      "zero\n"
     ]
    }
   ],
   "source": [
    "# Create a function that accepts two values, a and b.  Add code to print three lines where\n",
    "# first line contains sum of two values\n",
    "# second line contains difference of two values (first - second)\n",
    "# third line contains product of two values\n",
    "\n",
    "# Conditions:\n",
    "# If any of results are zero, print \"zero\" as result\n",
    "\n",
    "# Note: be sure to include useful info printed out, not just result\n",
    "\n",
    "def calc(a, b):\n",
    "    if type(a) is int and type(b) is int:\n",
    "        s = a + b\n",
    "        if s==0:\n",
    "            print(\"zero\")\n",
    "        else:\n",
    "            print(\"a + b =\", s)\n",
    "\n",
    "# sum of the two integers provided\n",
    "\n",
    "        d = (a-b)\n",
    "        if d==0:\n",
    "            print(\"zero\")\n",
    "        else:\n",
    "            print(\"a - b =\", d)\n",
    "\n",
    "# difference of two integers provided\n",
    "\n",
    "        p = (a*b)\n",
    "        if p==0:\n",
    "            print(\"zero\")\n",
    "        else:\n",
    "            print(\"a * b =\", p)\n",
    "        \n",
    "calc(0, 5)"
   ]
  },
  {
   "cell_type": "code",
   "execution_count": null,
   "metadata": {},
   "outputs": [],
   "source": []
  },
  {
   "cell_type": "code",
   "execution_count": null,
   "metadata": {},
   "outputs": [],
   "source": []
  },
  {
   "cell_type": "code",
   "execution_count": null,
   "metadata": {},
   "outputs": [],
   "source": []
  }
 ],
 "metadata": {
  "kernelspec": {
   "display_name": "Python 3",
   "language": "python",
   "name": "python3"
  },
  "language_info": {
   "codemirror_mode": {
    "name": "ipython",
    "version": 3
   },
   "file_extension": ".py",
   "mimetype": "text/x-python",
   "name": "python",
   "nbconvert_exporter": "python",
   "pygments_lexer": "ipython3",
   "version": "3.8.5"
  }
 },
 "nbformat": 4,
 "nbformat_minor": 4
}
